{
 "cells": [
  {
   "cell_type": "markdown",
   "metadata": {},
   "source": [
    "# Roberta test"
   ]
  },
  {
   "cell_type": "code",
   "execution_count": 19,
   "metadata": {},
   "outputs": [],
   "source": [
    "# Libraries\n",
    "import matplotlib.pyplot as plt\n",
    "import pandas as pd\n",
    "import torch\n",
    "import transformers\n",
    "# Preliminaries\n",
    "\n",
    "from torchtext.data import Field, TabularDataset, BucketIterator, Iterator\n",
    "\n",
    "# Models\n",
    "\n",
    "import torch.nn as nn\n",
    "from transformers import BertTokenizer, BertForSequenceClassification, RobertaTokenizer\n",
    "from transformers import RobertaTokenizer, RobertaModel, AdamW, get_linear_schedule_with_warmup\n",
    "# Training\n",
    "\n",
    "import torch.optim as optim\n",
    "\n",
    "# Evaluation\n",
    "\n",
    "from sklearn.metrics import accuracy_score, classification_report, confusion_matrix\n",
    "import seaborn as sns\n",
    "\n",
    "import warnings\n",
    "warnings.filterwarnings('ignore')"
   ]
  },
  {
   "cell_type": "code",
   "execution_count": 20,
   "metadata": {},
   "outputs": [
    {
     "name": "stdout",
     "output_type": "stream",
     "text": [
      "cuda:0\n"
     ]
    }
   ],
   "source": [
    "device = torch.device('cuda:0' if torch.cuda.is_available() else 'cpu')\n",
    "print(device)"
   ]
  },
  {
   "cell_type": "code",
   "execution_count": 21,
   "metadata": {},
   "outputs": [],
   "source": [
    "# Model with extra layers on top of RoBERTa\n",
    "class ROBERTAClassifier(torch.nn.Module):\n",
    "    def __init__(self, dropout_rate=0.3):\n",
    "        super(ROBERTAClassifier, self).__init__()\n",
    "        \n",
    "        self.roberta = RobertaModel.from_pretrained('roberta-base')\n",
    "        self.d1 = torch.nn.Dropout(dropout_rate)\n",
    "        self.l1 = torch.nn.Linear(768, 64)\n",
    "        self.bn1 = torch.nn.LayerNorm(64)\n",
    "        self.d2 = torch.nn.Dropout(dropout_rate)\n",
    "        self.l2 = torch.nn.Linear(64, 2)\n",
    "        \n",
    "    def forward(self, input_ids, attention_mask):\n",
    "        _, x = self.roberta(input_ids=input_ids, attention_mask=attention_mask)\n",
    "        x1 = self.d1(x)\n",
    "        x2 = self.l1(x1)\n",
    "        x3 = self.bn1(x2)\n",
    "        x4 = torch.nn.Tanh()(x3)\n",
    "        x5 = self.d2(x4)\n",
    "        x6 = self.l2(x5)\n",
    "        \n",
    "        return x6"
   ]
  },
  {
   "cell_type": "code",
   "execution_count": 22,
   "metadata": {},
   "outputs": [],
   "source": [
    "def dataset_embedding(MAX_SEQ_LEN, batch_size, text_col, label_col, test_doc):\n",
    "    tokenizer = RobertaTokenizer.from_pretrained(\"roberta-base\")\n",
    "    PAD_INDEX = tokenizer.convert_tokens_to_ids(tokenizer.pad_token)\n",
    "    UNK_INDEX = tokenizer.convert_tokens_to_ids(tokenizer.unk_token)\n",
    "    label_field = Field(sequential=False, use_vocab=False, batch_first=True, dtype=torch.float)\n",
    "    text_field = Field(use_vocab=False, tokenize=tokenizer.encode, lower=False, include_lengths=False, batch_first=True,\n",
    "                       fix_length=MAX_SEQ_LEN, pad_token=PAD_INDEX, unk_token=UNK_INDEX)\n",
    "    fields = [(text_col, text_field),(label_col, label_field)]\n",
    "\n",
    "    # TabularDataset\n",
    "    train, valid, test = TabularDataset.splits(path=source_folder, train=test_doc, validation=test_doc,\n",
    "                                               test=test_doc, format='CSV', fields=fields, skip_header=True)\n",
    "    \n",
    "    test_iter = Iterator(test, batch_size=batch_size, device=device, train=False, shuffle=False, sort=False)\n",
    "    return test_iter, tokenizer"
   ]
  },
  {
   "cell_type": "code",
   "execution_count": 23,
   "metadata": {},
   "outputs": [],
   "source": [
    "import pandas as pd\n",
    "sample = pd.read_csv('Data/test5.csv',sep = ',')"
   ]
  },
  {
   "cell_type": "code",
   "execution_count": 24,
   "metadata": {},
   "outputs": [
    {
     "name": "stdout",
     "output_type": "stream",
     "text": [
      "<class 'pandas.core.frame.DataFrame'>\n",
      "RangeIndex: 2319 entries, 0 to 2318\n",
      "Data columns (total 2 columns):\n",
      " #   Column   Non-Null Count  Dtype \n",
      "---  ------   --------------  ----- \n",
      " 0   comment  2319 non-null   object\n",
      " 1   attack   2319 non-null   int64 \n",
      "dtypes: int64(1), object(1)\n",
      "memory usage: 36.4+ KB\n"
     ]
    }
   ],
   "source": [
    "sample.info()"
   ]
  },
  {
   "cell_type": "code",
   "execution_count": 25,
   "metadata": {},
   "outputs": [],
   "source": [
    "source_folder = 'Data'"
   ]
  },
  {
   "cell_type": "code",
   "execution_count": 26,
   "metadata": {},
   "outputs": [],
   "source": [
    "max_seq_len = 128\n",
    "batch_size = 16\n",
    "text_col = 'comment'\n",
    "label_col = 'attack'\n",
    "test_doc = 'test5.csv'\n",
    "sample2400_embed, tokenizer = dataset_embedding(max_seq_len, batch_size, text_col, label_col, test_doc)"
   ]
  },
  {
   "cell_type": "code",
   "execution_count": 27,
   "metadata": {},
   "outputs": [],
   "source": [
    "# Model with extra layers on top of RoBERTa\n",
    "class ROBERTAClassifier(torch.nn.Module):\n",
    "    def __init__(self, dropout_rate=0.3):\n",
    "        super(ROBERTAClassifier, self).__init__()\n",
    "        \n",
    "        self.roberta = RobertaModel.from_pretrained('roberta-base')\n",
    "        self.d1 = torch.nn.Dropout(dropout_rate)\n",
    "        self.l1 = torch.nn.Linear(768, 64)\n",
    "        self.bn1 = torch.nn.LayerNorm(64)\n",
    "        self.d2 = torch.nn.Dropout(dropout_rate)\n",
    "        self.l2 = torch.nn.Linear(64, 2)\n",
    "        \n",
    "    def forward(self, input_ids, attention_mask):\n",
    "        _, x = self.roberta(input_ids=input_ids, attention_mask=attention_mask)\n",
    "        x1 = self.d1(x)\n",
    "        x2 = self.l1(x1)\n",
    "        x3 = self.bn1(x2)\n",
    "        x4 = torch.nn.Tanh()(x3)\n",
    "        x5 = self.d2(x4)\n",
    "        x6 = self.l2(x5)\n",
    "        \n",
    "        return x6"
   ]
  },
  {
   "cell_type": "code",
   "execution_count": 28,
   "metadata": {},
   "outputs": [],
   "source": [
    "from tqdm import tqdm\n",
    "def generate(model, test_loader):\n",
    "    y_pred = []\n",
    "    y_prob = []\n",
    "    model.eval()\n",
    "    with torch.no_grad():\n",
    "        for (source, target), _ in tqdm(test_loader):\n",
    "                mask = (source != PAD_INDEX).type(torch.uint8)\n",
    "                output = model(source, attention_mask=mask)\n",
    "                y_prob.extend(output.tolist())\n",
    "    return y_prob"
   ]
  },
  {
   "cell_type": "markdown",
   "metadata": {},
   "source": [
    "## Test on TOX"
   ]
  },
  {
   "cell_type": "code",
   "execution_count": 29,
   "metadata": {},
   "outputs": [],
   "source": [
    "def load_checkpoint(path, model):    \n",
    "    state_dict = torch.load(path, map_location=device)\n",
    "    model.load_state_dict(state_dict['model_state_dict'])\n",
    "    \n",
    "    return state_dict['valid_loss']"
   ]
  },
  {
   "cell_type": "code",
   "execution_count": 30,
   "metadata": {},
   "outputs": [
    {
     "data": {
      "text/plain": [
       "0.08750647318014222"
      ]
     },
     "execution_count": 30,
     "metadata": {},
     "output_type": "execute_result"
    }
   ],
   "source": [
    "output_path = 'Model_roberta_TOX'\n",
    "model = ROBERTAClassifier()\n",
    "model = model.to(device)\n",
    "load_checkpoint(output_path + '/model.pkl', model)"
   ]
  },
  {
   "cell_type": "code",
   "execution_count": 31,
   "metadata": {},
   "outputs": [
    {
     "name": "stderr",
     "output_type": "stream",
     "text": [
      "100%|█████████████████████████████████████████████████████████████████████████████| 145/145 [00:12<00:00, 11.34it/s]\n"
     ]
    }
   ],
   "source": [
    "PAD_INDEX = tokenizer.convert_tokens_to_ids(tokenizer.pad_token)\n",
    "final_ro_tox_score = generate(model, sample2400_embed)"
   ]
  },
  {
   "cell_type": "code",
   "execution_count": 39,
   "metadata": {},
   "outputs": [],
   "source": [
    "with open('Final result/TOX_roberta_2400.txt', 'w') as f:\n",
    "    for item in final_ro_tox_score:\n",
    "        f.write(\"%s\\n\" % item)"
   ]
  },
  {
   "cell_type": "markdown",
   "metadata": {},
   "source": [
    "## Test on AC"
   ]
  },
  {
   "cell_type": "code",
   "execution_count": 32,
   "metadata": {},
   "outputs": [
    {
     "data": {
      "text/plain": [
       "0.4722664388101225"
      ]
     },
     "execution_count": 32,
     "metadata": {},
     "output_type": "execute_result"
    }
   ],
   "source": [
    "output_path = 'Model_roberta_AC'\n",
    "model = ROBERTAClassifier()\n",
    "model = model.to(device)\n",
    "load_checkpoint(output_path + '/model.pkl', model)"
   ]
  },
  {
   "cell_type": "code",
   "execution_count": 33,
   "metadata": {},
   "outputs": [
    {
     "name": "stderr",
     "output_type": "stream",
     "text": [
      "100%|█████████████████████████████████████████████████████████████████████████████| 145/145 [00:12<00:00, 11.51it/s]\n"
     ]
    }
   ],
   "source": [
    "final_ro_AC_score = generate(model, sample2400_embed)"
   ]
  },
  {
   "cell_type": "code",
   "execution_count": 40,
   "metadata": {},
   "outputs": [],
   "source": [
    "with open('Final result/AC_roberta_2400.txt', 'w') as f:\n",
    "    for item in final_ro_AC_score:\n",
    "        f.write(\"%s\\n\" % item)"
   ]
  },
  {
   "cell_type": "markdown",
   "metadata": {},
   "source": [
    "## Test on EA"
   ]
  },
  {
   "cell_type": "code",
   "execution_count": 34,
   "metadata": {},
   "outputs": [
    {
     "data": {
      "text/plain": [
       "0.30514883347600696"
      ]
     },
     "execution_count": 34,
     "metadata": {},
     "output_type": "execute_result"
    }
   ],
   "source": [
    "output_path = 'Model_roberta_EA'\n",
    "model = ROBERTAClassifier()\n",
    "model = model.to(device)\n",
    "load_checkpoint(output_path + '/model.pkl', model)"
   ]
  },
  {
   "cell_type": "code",
   "execution_count": 35,
   "metadata": {
    "scrolled": true
   },
   "outputs": [
    {
     "name": "stderr",
     "output_type": "stream",
     "text": [
      "100%|█████████████████████████████████████████████████████████████████████████████| 145/145 [00:12<00:00, 11.37it/s]\n"
     ]
    }
   ],
   "source": [
    "final_ro_EA_score = generate(model, sample2400_embed)"
   ]
  },
  {
   "cell_type": "code",
   "execution_count": 41,
   "metadata": {},
   "outputs": [],
   "source": [
    "with open('Final result/EA_roberta_2400.txt', 'w') as f:\n",
    "    for item in final_ro_EA_score:\n",
    "        f.write(\"%s\\n\" % item)"
   ]
  },
  {
   "cell_type": "markdown",
   "metadata": {},
   "source": [
    "## Test on GAB"
   ]
  },
  {
   "cell_type": "code",
   "execution_count": 36,
   "metadata": {},
   "outputs": [
    {
     "data": {
      "text/plain": [
       "0.9805653022892903"
      ]
     },
     "execution_count": 36,
     "metadata": {},
     "output_type": "execute_result"
    }
   ],
   "source": [
    "output_path = 'Model_roberta_GAB'\n",
    "model = ROBERTAClassifier()\n",
    "model = model.to(device)\n",
    "load_checkpoint(output_path + '/model.pkl', model)"
   ]
  },
  {
   "cell_type": "code",
   "execution_count": 37,
   "metadata": {},
   "outputs": [
    {
     "name": "stderr",
     "output_type": "stream",
     "text": [
      "100%|█████████████████████████████████████████████████████████████████████████████| 145/145 [00:13<00:00, 11.12it/s]\n"
     ]
    }
   ],
   "source": [
    "final_ro_GAB_score = generate(model, sample2400_embed)"
   ]
  },
  {
   "cell_type": "code",
   "execution_count": 42,
   "metadata": {},
   "outputs": [],
   "source": [
    "with open('Final result/GAB_roberta_2400.txt', 'w') as f:\n",
    "    for item in final_ro_GAB_score:\n",
    "        f.write(\"%s\\n\" % item)"
   ]
  },
  {
   "cell_type": "markdown",
   "metadata": {},
   "source": [
    "# Bert test"
   ]
  },
  {
   "cell_type": "code",
   "execution_count": 1,
   "metadata": {},
   "outputs": [],
   "source": [
    "# Libraries\n",
    "\n",
    "import matplotlib.pyplot as plt\n",
    "import pandas as pd\n",
    "import torch\n",
    "import transformers\n",
    "# Preliminaries\n",
    "\n",
    "from torchtext.data import Field, TabularDataset, BucketIterator, Iterator\n",
    "\n",
    "# Models\n",
    "\n",
    "import torch.nn as nn\n",
    "from transformers import BertTokenizer, BertForSequenceClassification\n",
    "\n",
    "# Training\n",
    "\n",
    "import torch.optim as optim\n",
    "\n",
    "# Evaluation\n",
    "\n",
    "from sklearn.metrics import accuracy_score, classification_report, confusion_matrix\n",
    "import seaborn as sns"
   ]
  },
  {
   "cell_type": "code",
   "execution_count": 2,
   "metadata": {},
   "outputs": [
    {
     "name": "stdout",
     "output_type": "stream",
     "text": [
      "cuda:0\n"
     ]
    }
   ],
   "source": [
    "device = torch.device('cuda:0' if torch.cuda.is_available() else 'cpu')\n",
    "print(device)"
   ]
  },
  {
   "cell_type": "code",
   "execution_count": 3,
   "metadata": {},
   "outputs": [],
   "source": [
    "def load_bert_checkpoint(load_path, model):\n",
    "    \n",
    "    if load_path==None:\n",
    "        return\n",
    "    \n",
    "    state_dict = torch.load(load_path, map_location=device)\n",
    "    print(f'Model loaded from <== {load_path}')\n",
    "    \n",
    "    model.load_state_dict(state_dict['model_state_dict'])\n",
    "    return state_dict['valid_loss']"
   ]
  },
  {
   "cell_type": "code",
   "execution_count": 4,
   "metadata": {},
   "outputs": [],
   "source": [
    "class BERT(nn.Module):\n",
    "\n",
    "    def __init__(self):\n",
    "        super(BERT, self).__init__()\n",
    "\n",
    "        options_name = \"bert-base-uncased\"\n",
    "        self.encoder = BertForSequenceClassification.from_pretrained(options_name)\n",
    "\n",
    "    def forward(self, text, label):\n",
    "        loss, text_fea = self.encoder(text, labels=label)[:2]\n",
    "        \n",
    "\n",
    "        return loss, text_fea"
   ]
  },
  {
   "cell_type": "code",
   "execution_count": 5,
   "metadata": {},
   "outputs": [],
   "source": [
    "def evaluate_bert(model, test_loader):\n",
    "    y_pred = []\n",
    "    y_true = []\n",
    "    y_prob = []\n",
    "    model.eval()\n",
    "    with torch.no_grad():\n",
    "        for (comment,attack ), _ in test_loader:\n",
    "                comment = comment.type(torch.LongTensor)           \n",
    "                comment = comment.to(device)\n",
    "                attack = attack.type(torch.LongTensor)  \n",
    "                attack = attack.to(device)\n",
    "                output = model(comment, attack)\n",
    "                _, output = output\n",
    "                y_prob.extend(output.tolist())\n",
    "                y_pred.extend(torch.argmax(output, 1).tolist())\n",
    "                y_true.extend(attack.tolist())\n",
    "    return y_prob   "
   ]
  },
  {
   "cell_type": "code",
   "execution_count": 7,
   "metadata": {},
   "outputs": [],
   "source": [
    "tokenizer = BertTokenizer.from_pretrained('bert-base-uncased')"
   ]
  },
  {
   "cell_type": "code",
   "execution_count": 10,
   "metadata": {},
   "outputs": [],
   "source": [
    "# Model parameter\n",
    "MAX_SEQ_LEN = 128\n",
    "PAD_INDEX = tokenizer.convert_tokens_to_ids(tokenizer.pad_token)\n",
    "UNK_INDEX = tokenizer.convert_tokens_to_ids(tokenizer.unk_token)\n",
    "\n",
    "# Fields\n",
    "\n",
    "label_field = Field(sequential=False, use_vocab=False, batch_first=True, dtype=torch.float)\n",
    "text_field = Field(use_vocab=False, tokenize=tokenizer.encode, lower=False, include_lengths=False, batch_first=True,\n",
    "                   fix_length=MAX_SEQ_LEN, pad_token=PAD_INDEX, unk_token=UNK_INDEX)\n",
    "fields = [('comment', text_field),('attack', label_field)]\n",
    "\n",
    "# TabularDataset\n",
    "\n",
    "train, valid, test = TabularDataset.splits(path=source_folder, train='GAB_final.csv', validation='GAB_final.csv',\n",
    "                                           test='test5.csv', format='CSV', fields=fields, skip_header=True)\n",
    "\n",
    "\n",
    "test_iter_2400 = Iterator(test, batch_size=16, device=device, train=False, shuffle=False, sort=False)"
   ]
  },
  {
   "cell_type": "markdown",
   "metadata": {},
   "source": [
    "## Tox test"
   ]
  },
  {
   "cell_type": "code",
   "execution_count": 11,
   "metadata": {},
   "outputs": [
    {
     "name": "stderr",
     "output_type": "stream",
     "text": [
      "Some weights of the model checkpoint at bert-base-uncased were not used when initializing BertForSequenceClassification: ['cls.predictions.bias', 'cls.predictions.transform.dense.weight', 'cls.predictions.transform.dense.bias', 'cls.predictions.decoder.weight', 'cls.seq_relationship.weight', 'cls.seq_relationship.bias', 'cls.predictions.transform.LayerNorm.weight', 'cls.predictions.transform.LayerNorm.bias']\n",
      "- This IS expected if you are initializing BertForSequenceClassification from the checkpoint of a model trained on another task or with another architecture (e.g. initializing a BertForSequenceClassification model from a BertForPretraining model).\n",
      "- This IS NOT expected if you are initializing BertForSequenceClassification from the checkpoint of a model that you expect to be exactly identical (initializing a BertForSequenceClassification model from a BertForSequenceClassification model).\n",
      "Some weights of BertForSequenceClassification were not initialized from the model checkpoint at bert-base-uncased and are newly initialized: ['classifier.weight', 'classifier.bias']\n",
      "You should probably TRAIN this model on a down-stream task to be able to use it for predictions and inference.\n"
     ]
    },
    {
     "name": "stdout",
     "output_type": "stream",
     "text": [
      "Model loaded from <== Model_bert_TOX/model.pt\n"
     ]
    },
    {
     "data": {
      "text/plain": [
       "0.09944658643716577"
      ]
     },
     "execution_count": 11,
     "metadata": {},
     "output_type": "execute_result"
    }
   ],
   "source": [
    "model = BERT().to(device)\n",
    "output_path = 'Model_bert_TOX'\n",
    "load_bert_checkpoint(output_path + '/model.pt', model)"
   ]
  },
  {
   "cell_type": "code",
   "execution_count": 12,
   "metadata": {},
   "outputs": [],
   "source": [
    "bert_tox_score = evaluate_bert(model, test_iter_2400)"
   ]
  },
  {
   "cell_type": "code",
   "execution_count": 43,
   "metadata": {},
   "outputs": [],
   "source": [
    "with open('Final result/TOX_bert_2400.txt', 'w') as f:\n",
    "    for item in bert_tox_score:\n",
    "        f.write(\"%s\\n\" % item)"
   ]
  },
  {
   "cell_type": "markdown",
   "metadata": {},
   "source": [
    "## AC test"
   ]
  },
  {
   "cell_type": "code",
   "execution_count": 13,
   "metadata": {},
   "outputs": [
    {
     "name": "stderr",
     "output_type": "stream",
     "text": [
      "Some weights of the model checkpoint at bert-base-uncased were not used when initializing BertForSequenceClassification: ['cls.predictions.bias', 'cls.predictions.transform.dense.weight', 'cls.predictions.transform.dense.bias', 'cls.predictions.decoder.weight', 'cls.seq_relationship.weight', 'cls.seq_relationship.bias', 'cls.predictions.transform.LayerNorm.weight', 'cls.predictions.transform.LayerNorm.bias']\n",
      "- This IS expected if you are initializing BertForSequenceClassification from the checkpoint of a model trained on another task or with another architecture (e.g. initializing a BertForSequenceClassification model from a BertForPretraining model).\n",
      "- This IS NOT expected if you are initializing BertForSequenceClassification from the checkpoint of a model that you expect to be exactly identical (initializing a BertForSequenceClassification model from a BertForSequenceClassification model).\n",
      "Some weights of BertForSequenceClassification were not initialized from the model checkpoint at bert-base-uncased and are newly initialized: ['classifier.weight', 'classifier.bias']\n",
      "You should probably TRAIN this model on a down-stream task to be able to use it for predictions and inference.\n"
     ]
    },
    {
     "name": "stdout",
     "output_type": "stream",
     "text": [
      "Model loaded from <== Model_bert_AC/model.pt\n"
     ]
    },
    {
     "data": {
      "text/plain": [
       "0.2952551893730396"
      ]
     },
     "execution_count": 13,
     "metadata": {},
     "output_type": "execute_result"
    }
   ],
   "source": [
    "model = BERT().to(device)\n",
    "output_path = 'Model_bert_AC'\n",
    "load_bert_checkpoint(output_path + '/model.pt', model)"
   ]
  },
  {
   "cell_type": "code",
   "execution_count": 14,
   "metadata": {},
   "outputs": [],
   "source": [
    "bert_AC_score = evaluate_bert(model, test_iter_2400)"
   ]
  },
  {
   "cell_type": "code",
   "execution_count": 44,
   "metadata": {},
   "outputs": [],
   "source": [
    "with open('Final result/AC_bert_2400.txt', 'w') as f:\n",
    "    for item in bert_AC_score:\n",
    "        f.write(\"%s\\n\" % item)"
   ]
  },
  {
   "cell_type": "markdown",
   "metadata": {},
   "source": [
    "## EA test"
   ]
  },
  {
   "cell_type": "code",
   "execution_count": 15,
   "metadata": {},
   "outputs": [
    {
     "name": "stderr",
     "output_type": "stream",
     "text": [
      "Some weights of the model checkpoint at bert-base-uncased were not used when initializing BertForSequenceClassification: ['cls.predictions.bias', 'cls.predictions.transform.dense.weight', 'cls.predictions.transform.dense.bias', 'cls.predictions.decoder.weight', 'cls.seq_relationship.weight', 'cls.seq_relationship.bias', 'cls.predictions.transform.LayerNorm.weight', 'cls.predictions.transform.LayerNorm.bias']\n",
      "- This IS expected if you are initializing BertForSequenceClassification from the checkpoint of a model trained on another task or with another architecture (e.g. initializing a BertForSequenceClassification model from a BertForPretraining model).\n",
      "- This IS NOT expected if you are initializing BertForSequenceClassification from the checkpoint of a model that you expect to be exactly identical (initializing a BertForSequenceClassification model from a BertForSequenceClassification model).\n",
      "Some weights of BertForSequenceClassification were not initialized from the model checkpoint at bert-base-uncased and are newly initialized: ['classifier.weight', 'classifier.bias']\n",
      "You should probably TRAIN this model on a down-stream task to be able to use it for predictions and inference.\n"
     ]
    },
    {
     "name": "stdout",
     "output_type": "stream",
     "text": [
      "Model loaded from <== Model_bert_EA/model.pt\n"
     ]
    },
    {
     "data": {
      "text/plain": [
       "0.27000466811656954"
      ]
     },
     "execution_count": 15,
     "metadata": {},
     "output_type": "execute_result"
    }
   ],
   "source": [
    "model = BERT().to(device)\n",
    "output_path = 'Model_bert_EA'\n",
    "load_bert_checkpoint(output_path + '/model.pt', model)"
   ]
  },
  {
   "cell_type": "code",
   "execution_count": 16,
   "metadata": {},
   "outputs": [],
   "source": [
    "bert_EA_score = evaluate_bert(model, test_iter_2400)"
   ]
  },
  {
   "cell_type": "code",
   "execution_count": 45,
   "metadata": {},
   "outputs": [],
   "source": [
    "with open('Final result/EA_bert_2400.txt', 'w') as f:\n",
    "    for item in bert_EA_score:\n",
    "        f.write(\"%s\\n\" % item)"
   ]
  },
  {
   "cell_type": "markdown",
   "metadata": {},
   "source": [
    "## GAB test"
   ]
  },
  {
   "cell_type": "code",
   "execution_count": 17,
   "metadata": {},
   "outputs": [
    {
     "name": "stderr",
     "output_type": "stream",
     "text": [
      "Some weights of the model checkpoint at bert-base-uncased were not used when initializing BertForSequenceClassification: ['cls.predictions.bias', 'cls.predictions.transform.dense.weight', 'cls.predictions.transform.dense.bias', 'cls.predictions.decoder.weight', 'cls.seq_relationship.weight', 'cls.seq_relationship.bias', 'cls.predictions.transform.LayerNorm.weight', 'cls.predictions.transform.LayerNorm.bias']\n",
      "- This IS expected if you are initializing BertForSequenceClassification from the checkpoint of a model trained on another task or with another architecture (e.g. initializing a BertForSequenceClassification model from a BertForPretraining model).\n",
      "- This IS NOT expected if you are initializing BertForSequenceClassification from the checkpoint of a model that you expect to be exactly identical (initializing a BertForSequenceClassification model from a BertForSequenceClassification model).\n",
      "Some weights of BertForSequenceClassification were not initialized from the model checkpoint at bert-base-uncased and are newly initialized: ['classifier.weight', 'classifier.bias']\n",
      "You should probably TRAIN this model on a down-stream task to be able to use it for predictions and inference.\n"
     ]
    },
    {
     "name": "stdout",
     "output_type": "stream",
     "text": [
      "Model loaded from <== Model_bert_GAB/model.pt\n"
     ]
    },
    {
     "data": {
      "text/plain": [
       "0.29499756002184974"
      ]
     },
     "execution_count": 17,
     "metadata": {},
     "output_type": "execute_result"
    }
   ],
   "source": [
    "model = BERT().to(device)\n",
    "output_path = 'Model_bert_GAB'\n",
    "load_bert_checkpoint(output_path + '/model.pt', model)"
   ]
  },
  {
   "cell_type": "code",
   "execution_count": 18,
   "metadata": {},
   "outputs": [],
   "source": [
    "bert_GAB_score = evaluate_bert(model, test_iter_2400)"
   ]
  },
  {
   "cell_type": "code",
   "execution_count": 46,
   "metadata": {},
   "outputs": [],
   "source": [
    "with open('Final result/GAB_bert_2400.txt', 'w') as f:\n",
    "    for item in bert_GAB_score:\n",
    "        f.write(\"%s\\n\" % item)"
   ]
  },
  {
   "cell_type": "code",
   "execution_count": 47,
   "metadata": {},
   "outputs": [],
   "source": [
    "bert_AC_score = [sum(i) for i in bert_AC_score]\n",
    "bert_EA_score = [sum(i) for i in bert_EA_score]\n",
    "bert_tox_score = [sum(i) for i in bert_tox_score]\n",
    "bert_GAB_score = [sum(i) for i in bert_GAB_score]\n",
    "final_ro_AC_score = [sum(i) for i in final_ro_AC_score]\n",
    "final_ro_EA_score = [sum(i) for i in final_ro_EA_score]\n",
    "final_ro_GAB_score = [sum(i) for i in final_ro_GAB_score]\n",
    "final_ro_tox_score = [sum(i) for i in final_ro_tox_score] "
   ]
  },
  {
   "cell_type": "code",
   "execution_count": 54,
   "metadata": {},
   "outputs": [
    {
     "name": "stderr",
     "output_type": "stream",
     "text": [
      "100%|███████████████████████████████████████████████████████████████████████| 2319/2319 [00:00<00:00, 232554.48it/s]\n"
     ]
    }
   ],
   "source": [
    "sample_2400 = pd.read_csv('Data/test5.csv',sep = ',')\n",
    "length_2400 = []\n",
    "for sentence in tqdm(sample_2400['comment']):\n",
    "    if len(sentence.split()) == 0:\n",
    "        length_2400.append(1)\n",
    "    else:\n",
    "        length_2400.append(len(sentence.split()))"
   ]
  },
  {
   "cell_type": "code",
   "execution_count": 56,
   "metadata": {},
   "outputs": [],
   "source": [
    "import numpy as np\n",
    "avg_2400 = np.mean(length_2400)"
   ]
  },
  {
   "cell_type": "code",
   "execution_count": 63,
   "metadata": {},
   "outputs": [
    {
     "data": {
      "image/png": "[encoded data removed]",
      "text/plain": [
       "<Figure size 1440x720 with 1 Axes>"
      ]
     },
     "metadata": {
      "needs_background": "light"
     },
     "output_type": "display_data"
    }
   ],
   "source": [
    "import matplotlib.pyplot as plt\n",
    "plt.figure(figsize=(20,10))\n",
    "num_bins = 1000\n",
    "n1, bins1, patches1 = plt.hist(bert_GAB_score,  label= 'bert_GAB', bins=num_bins)\n",
    "n2, bins2, patches2 = plt.hist(bert_EA_score, label = 'bert_EA', bins = num_bins,alpha = 0.3)\n",
    "n3, bins3, patches3 = plt.hist(bert_AC_score,label = 'bert_AC', bins = num_bins,alpha = 0.3,density = True)\n",
    "n4, bins4, patches4 = plt.hist(bert_tox_score, label = 'bert_TOX', bins = num_bins,color='r', alpha = 0.3)\n",
    "n5, bins5, patches5 = plt.hist(final_ro_GAB_score, label = 'ro_GAB', bins = num_bins,alpha = 0.3)\n",
    "n6, bins6, patches6 = plt.hist(final_ro_EA_score, label = 'ro_EA', bins = num_bins,alpha = 0.3)\n",
    "n7, bins7, patches7 = plt.hist(final_ro_AC_score, label = 'ro_AC', bins = num_bins,alpha = 0.3)\n",
    "n8, bins8, patches8 = plt.hist(final_ro_tox_score, label = 'ro_TOX', bins = num_bins,alpha = 0.3)\n",
    "plt.title('Data significance comparision')\n",
    "plt.grid()\n",
    "plt.ylabel('Number')\n",
    "plt.xlabel('Roberta score/roberta score')\n",
    "plt.legend()\n",
    "plt.show()"
   ]
  },
  {
   "cell_type": "code",
   "execution_count": 57,
   "metadata": {},
   "outputs": [],
   "source": [
    "y_prob_GAb_bert = [(bert_GAB_score[i] * (avg_2400/128)) for i in range(len(final_ro_tox_score))]\n",
    "y_prob_EA_bert = [(bert_EA_score[i] * (avg_2400/128)) for i in range(len(final_ro_tox_score))]\n",
    "y_prob_AC_bert = [(bert_AC_score[i] * (avg_2400/128)) for i in range(len(final_ro_tox_score))]\n",
    "y_prob_TOX_bert = [(bert_tox_score[i] * (avg_2400/128)) for i in range(len(final_ro_tox_score))]\n",
    "y_prob_GAb_Roberta = [(final_ro_GAB_score[i] * (avg_2400/128)) for i in range(len(final_ro_tox_score))]\n",
    "y_prob_EA_Roberta = [(final_ro_EA_score[i] * (avg_2400/128)) for i in range(len(final_ro_tox_score))]\n",
    "y_prob_AC_Roberta = [(final_ro_AC_score[i] * (avg_2400/128)) for i in range(len(final_ro_tox_score))]\n",
    "y_prob_TOX_Roberta = [(final_ro_tox_score[i] * (avg_2400/128)) for i in range(len(final_ro_tox_score))]"
   ]
  },
  {
   "cell_type": "code",
   "execution_count": 59,
   "metadata": {},
   "outputs": [],
   "source": [
    "mu1 =np.mean(y_prob_GAb_bert)\n",
    "mu2 =np.mean(y_prob_EA_bert)\n",
    "mu3 =np.mean(y_prob_AC_bert)\n",
    "mu4 =np.mean(y_prob_TOX_bert)\n",
    "mu5 =np.mean(y_prob_GAb_Roberta)\n",
    "mu6 =np.mean(y_prob_EA_Roberta)\n",
    "mu7 =np.mean(y_prob_AC_Roberta)\n",
    "mu8 =np.mean(y_prob_TOX_Roberta)\n",
    "\n",
    "sigma1 =np.std(y_prob_GAb_bert)\n",
    "sigma2 =np.std(y_prob_EA_bert)\n",
    "sigma3 =np.std(y_prob_AC_bert)\n",
    "sigma4 =np.std(y_prob_TOX_bert)\n",
    "sigma5 =np.std(y_prob_GAb_Roberta)\n",
    "sigma6 =np.std(y_prob_EA_Roberta)\n",
    "sigma7 =np.std(y_prob_AC_Roberta)\n",
    "sigma8 =np.std(y_prob_TOX_Roberta)"
   ]
  },
  {
   "cell_type": "code",
   "execution_count": 60,
   "metadata": {},
   "outputs": [
    {
     "name": "stdout",
     "output_type": "stream",
     "text": [
      "Bert GAB_2400 mu: -0.117566070947268 and sigma_2400: 0.0038253748941490984\n",
      "Bert EA_2400 mu: 0.007887538907728522 and sigma_2400: 0.08479906372310995\n",
      "Bert AC_2400 mu: -0.09795903628551916 and sigma_2400: 0.10935770533442239\n",
      "Bert TOX_2400 mu: 0.07664759451853975 and sigma_2400: 0.25045988561257704\n",
      "RoBerta GAB_2400 mu: 0.10423087615657814 and sigma_2400: 0.00609735062067624\n",
      "RoBerta EA_2400 mu: -0.002086608182302554 and sigma_2400: 0.031954514671760456\n",
      "RoBerta AC_2400 mu: 0.16585392441174168 and sigma_2400: 0.005854642938097028\n",
      "RoBerta TOX_2400 mu: 0.002096768848111415 and sigma_2400: 0.08079084950723224\n"
     ]
    }
   ],
   "source": [
    "print('Bert GAB_2400 mu:',mu1,'and sigma_2400:',sigma1)\n",
    "print('Bert EA_2400 mu:',mu2,'and sigma_2400:',sigma2)\n",
    "print('Bert AC_2400 mu:',mu3,'and sigma_2400:',sigma3)\n",
    "print('Bert TOX_2400 mu:',mu4,'and sigma_2400:',sigma4)\n",
    "print('RoBerta GAB_2400 mu:',mu5,'and sigma_2400:',sigma5)\n",
    "print('RoBerta EA_2400 mu:',mu6,'and sigma_2400:',sigma6)\n",
    "print('RoBerta AC_2400 mu:',mu7,'and sigma_2400:',sigma7)\n",
    "print('RoBerta TOX_2400 mu:',mu8,'and sigma_2400:',sigma8)"
   ]
  },
  {
   "cell_type": "code",
   "execution_count": 73,
   "metadata": {},
   "outputs": [],
   "source": [
    "from scipy.stats import norm\n",
    "y1 = norm.pdf(bins1, mu1, sigma1)\n",
    "y2 = norm.pdf(bins2, mu2, sigma2)\n",
    "y3 = norm.pdf(bins3, mu3, sigma3)\n",
    "y4 = norm.pdf(bins4, mu4, sigma4)\n",
    "y5 = norm.pdf(bins5, mu5, sigma5)\n",
    "y6 = norm.pdf(bins6, mu6, sigma6)\n",
    "y7 = norm.pdf(bins7, mu7, sigma7)\n",
    "y8 = norm.pdf(bins8, mu8, sigma8)"
   ]
  },
  {
   "cell_type": "code",
   "execution_count": 79,
   "metadata": {},
   "outputs": [
    {
     "data": {
      "image/png": "[encoded data removed]",
      "text/plain": [
       "<Figure size 720x360 with 1 Axes>"
      ]
     },
     "metadata": {
      "needs_background": "light"
     },
     "output_type": "display_data"
    }
   ],
   "source": [
    "plt.figure(figsize=(10,5))\n",
    "plt.grid()\n",
    "plt.plot(bins1, y1,label= 'GAB_bert_2400') \n",
    "plt.plot(bins2, y2,label= 'EA_bert_2400') \n",
    "plt.plot(bins3, y3,label= 'AC_bert_2400') \n",
    "plt.plot(bins4, y4,label= 'TOX_bert_2400')\n",
    "plt.plot(bins5, y5,label= 'GAB_roberta_2400')\n",
    "plt.plot(bins6, y6,label= 'EA_roberta_2400')\n",
    "plt.plot(bins7, y7,label= 'AC_roberta_2400')\n",
    "plt.plot(bins8, y8,label= 'TOX_roberta_2400')\n",
    "\n",
    "plt.ylabel('y_norm')\n",
    "# plt.xlim([-0.5,0.5])\n",
    "plt.xlabel('Roberta score')\n",
    "plt.legend()\n",
    "plt.show()"
   ]
  },
  {
   "cell_type": "code",
   "execution_count": null,
   "metadata": {},
   "outputs": [],
   "source": []
  }
 ],
 "metadata": {
  "kernelspec": {
   "display_name": "Python 3",
   "language": "python",
   "name": "python3"
  },
  "language_info": {
   "codemirror_mode": {
    "name": "ipython",
    "version": 3
   },
   "file_extension": ".py",
   "mimetype": "text/x-python",
   "name": "python",
   "nbconvert_exporter": "python",
   "pygments_lexer": "ipython3",
   "version": "3.7.4"
  }
 },
 "nbformat": 4,
 "nbformat_minor": 4
}
